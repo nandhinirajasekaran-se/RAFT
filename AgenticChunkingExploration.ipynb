{
 "cells": [
  {
   "cell_type": "code",
   "execution_count": null,
   "id": "2d51c687",
   "metadata": {},
   "outputs": [],
   "source": [
    "with open(\"raft_qa_dataset_agentic.json\", \"w\") as f:\n",
    "    json.dump(qa_dataset, f, indent=2)\n",
    "\n",
    "print(f\"✅ Saved {len(qa_dataset)} QA pairs using agentic chunking.\")\n"
   ]
  }
 ],
 "metadata": {
  "kernelspec": {
   "display_name": ".venv",
   "language": "python",
   "name": "python3"
  },
  "language_info": {
   "name": "python",
   "version": "3.12.7"
  }
 },
 "nbformat": 4,
 "nbformat_minor": 5
}
