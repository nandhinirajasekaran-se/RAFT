{
 "cells": [
  {
   "cell_type": "code",
   "execution_count": null,
   "id": "7be45011",
   "metadata": {},
   "outputs": [
    {
     "name": "stderr",
     "output_type": "stream",
     "text": [
      "/Users/nandhinirajasekaran/Desktop/LLM/RAFT/.venv/lib/python3.12/site-packages/tqdm/auto.py:21: TqdmWarning: IProgress not found. Please update jupyter and ipywidgets. See https://ipywidgets.readthedocs.io/en/stable/user_install.html\n",
      "  from .autonotebook import tqdm as notebook_tqdm\n"
     ]
    },
    {
     "name": "stdout",
     "output_type": "stream",
     "text": [
      "📄 Processing: phi-basic.pdf\n"
     ]
    },
    {
     "ename": "LookupError",
     "evalue": "\n**********************************************************************\n  Resource \u001b[93mpunkt_tab\u001b[0m not found.\n  Please use the NLTK Downloader to obtain the resource:\n\n  \u001b[31m>>> import nltk\n  >>> nltk.download('punkt_tab')\n  \u001b[0m\n  For more information see: https://www.nltk.org/data.html\n\n  Attempted to load \u001b[93mtokenizers/punkt_tab/english/\u001b[0m\n\n  Searched in:\n    - '/Users/nandhinirajasekaran/nltk_data'\n    - '/Users/nandhinirajasekaran/Desktop/LLM/RAFT/.venv/nltk_data'\n    - '/Users/nandhinirajasekaran/Desktop/LLM/RAFT/.venv/share/nltk_data'\n    - '/Users/nandhinirajasekaran/Desktop/LLM/RAFT/.venv/lib/nltk_data'\n    - '/usr/share/nltk_data'\n    - '/usr/local/share/nltk_data'\n    - '/usr/lib/nltk_data'\n    - '/usr/local/lib/nltk_data'\n**********************************************************************\n",
     "output_type": "error",
     "traceback": [
      "\u001b[31m---------------------------------------------------------------------------\u001b[39m",
      "\u001b[31mLookupError\u001b[39m                               Traceback (most recent call last)",
      "\u001b[36mCell\u001b[39m\u001b[36m \u001b[39m\u001b[32mIn[1]\u001b[39m\u001b[32m, line 114\u001b[39m\n\u001b[32m    111\u001b[39m plan_type = \u001b[33m\"\u001b[39m\u001b[33mbasic\u001b[39m\u001b[33m\"\u001b[39m \u001b[38;5;28;01mif\u001b[39;00m \u001b[33m\"\u001b[39m\u001b[33mbasic\u001b[39m\u001b[33m\"\u001b[39m \u001b[38;5;129;01min\u001b[39;00m pdf_file.lower() \u001b[38;5;28;01melse\u001b[39;00m \u001b[33m\"\u001b[39m\u001b[33mstandard\u001b[39m\u001b[33m\"\u001b[39m \u001b[38;5;28;01mif\u001b[39;00m \u001b[33m\"\u001b[39m\u001b[33mstandard\u001b[39m\u001b[33m\"\u001b[39m \u001b[38;5;129;01min\u001b[39;00m pdf_file.lower() \u001b[38;5;28;01melse\u001b[39;00m \u001b[33m\"\u001b[39m\u001b[33menhanced\u001b[39m\u001b[33m\"\u001b[39m\n\u001b[32m    113\u001b[39m \u001b[38;5;28;01mfor\u001b[39;00m page \u001b[38;5;129;01min\u001b[39;00m pages:\n\u001b[32m--> \u001b[39m\u001b[32m114\u001b[39m     chunks = \u001b[43mhybrid_semantic_context_chunk\u001b[49m\u001b[43m(\u001b[49m\u001b[43mpage\u001b[49m\u001b[43m.\u001b[49m\u001b[43mpage_content\u001b[49m\u001b[43m)\u001b[49m\n\u001b[32m    115\u001b[39m     \u001b[38;5;28;01mfor\u001b[39;00m chunk \u001b[38;5;129;01min\u001b[39;00m chunks:\n\u001b[32m    116\u001b[39m         metadata = {\u001b[33m\"\u001b[39m\u001b[33msource_file\u001b[39m\u001b[33m\"\u001b[39m: pdf_file, \u001b[33m\"\u001b[39m\u001b[33mplan_type\u001b[39m\u001b[33m\"\u001b[39m: plan_type}\n",
      "\u001b[36mCell\u001b[39m\u001b[36m \u001b[39m\u001b[32mIn[1]\u001b[39m\u001b[32m, line 73\u001b[39m, in \u001b[36mhybrid_semantic_context_chunk\u001b[39m\u001b[34m(text, token_limit, similarity_threshold)\u001b[39m\n\u001b[32m     72\u001b[39m \u001b[38;5;28;01mdef\u001b[39;00m\u001b[38;5;250m \u001b[39m\u001b[34mhybrid_semantic_context_chunk\u001b[39m(text, token_limit=TOKEN_LIMIT, similarity_threshold=SIM_THRESHOLD):\n\u001b[32m---> \u001b[39m\u001b[32m73\u001b[39m     sentences = \u001b[43msent_tokenize\u001b[49m\u001b[43m(\u001b[49m\u001b[43mtext\u001b[49m\u001b[43m)\u001b[49m\n\u001b[32m     74\u001b[39m     \u001b[38;5;28;01mif\u001b[39;00m \u001b[38;5;129;01mnot\u001b[39;00m sentences:\n\u001b[32m     75\u001b[39m         \u001b[38;5;28;01mreturn\u001b[39;00m []\n",
      "\u001b[36mFile \u001b[39m\u001b[32m~/Desktop/LLM/RAFT/.venv/lib/python3.12/site-packages/nltk/tokenize/__init__.py:119\u001b[39m, in \u001b[36msent_tokenize\u001b[39m\u001b[34m(text, language)\u001b[39m\n\u001b[32m    109\u001b[39m \u001b[38;5;28;01mdef\u001b[39;00m\u001b[38;5;250m \u001b[39m\u001b[34msent_tokenize\u001b[39m(text, language=\u001b[33m\"\u001b[39m\u001b[33menglish\u001b[39m\u001b[33m\"\u001b[39m):\n\u001b[32m    110\u001b[39m \u001b[38;5;250m    \u001b[39m\u001b[33;03m\"\"\"\u001b[39;00m\n\u001b[32m    111\u001b[39m \u001b[33;03m    Return a sentence-tokenized copy of *text*,\u001b[39;00m\n\u001b[32m    112\u001b[39m \u001b[33;03m    using NLTK's recommended sentence tokenizer\u001b[39;00m\n\u001b[32m   (...)\u001b[39m\u001b[32m    117\u001b[39m \u001b[33;03m    :param language: the model name in the Punkt corpus\u001b[39;00m\n\u001b[32m    118\u001b[39m \u001b[33;03m    \"\"\"\u001b[39;00m\n\u001b[32m--> \u001b[39m\u001b[32m119\u001b[39m     tokenizer = \u001b[43m_get_punkt_tokenizer\u001b[49m\u001b[43m(\u001b[49m\u001b[43mlanguage\u001b[49m\u001b[43m)\u001b[49m\n\u001b[32m    120\u001b[39m     \u001b[38;5;28;01mreturn\u001b[39;00m tokenizer.tokenize(text)\n",
      "\u001b[36mFile \u001b[39m\u001b[32m~/Desktop/LLM/RAFT/.venv/lib/python3.12/site-packages/nltk/tokenize/__init__.py:105\u001b[39m, in \u001b[36m_get_punkt_tokenizer\u001b[39m\u001b[34m(language)\u001b[39m\n\u001b[32m     96\u001b[39m \u001b[38;5;129m@functools\u001b[39m.lru_cache\n\u001b[32m     97\u001b[39m \u001b[38;5;28;01mdef\u001b[39;00m\u001b[38;5;250m \u001b[39m\u001b[34m_get_punkt_tokenizer\u001b[39m(language=\u001b[33m\"\u001b[39m\u001b[33menglish\u001b[39m\u001b[33m\"\u001b[39m):\n\u001b[32m     98\u001b[39m \u001b[38;5;250m    \u001b[39m\u001b[33;03m\"\"\"\u001b[39;00m\n\u001b[32m     99\u001b[39m \u001b[33;03m    A constructor for the PunktTokenizer that utilizes\u001b[39;00m\n\u001b[32m    100\u001b[39m \u001b[33;03m    a lru cache for performance.\u001b[39;00m\n\u001b[32m   (...)\u001b[39m\u001b[32m    103\u001b[39m \u001b[33;03m    :type language: str\u001b[39;00m\n\u001b[32m    104\u001b[39m \u001b[33;03m    \"\"\"\u001b[39;00m\n\u001b[32m--> \u001b[39m\u001b[32m105\u001b[39m     \u001b[38;5;28;01mreturn\u001b[39;00m \u001b[43mPunktTokenizer\u001b[49m\u001b[43m(\u001b[49m\u001b[43mlanguage\u001b[49m\u001b[43m)\u001b[49m\n",
      "\u001b[36mFile \u001b[39m\u001b[32m~/Desktop/LLM/RAFT/.venv/lib/python3.12/site-packages/nltk/tokenize/punkt.py:1744\u001b[39m, in \u001b[36mPunktTokenizer.__init__\u001b[39m\u001b[34m(self, lang)\u001b[39m\n\u001b[32m   1742\u001b[39m \u001b[38;5;28;01mdef\u001b[39;00m\u001b[38;5;250m \u001b[39m\u001b[34m__init__\u001b[39m(\u001b[38;5;28mself\u001b[39m, lang=\u001b[33m\"\u001b[39m\u001b[33menglish\u001b[39m\u001b[33m\"\u001b[39m):\n\u001b[32m   1743\u001b[39m     PunktSentenceTokenizer.\u001b[34m__init__\u001b[39m(\u001b[38;5;28mself\u001b[39m)\n\u001b[32m-> \u001b[39m\u001b[32m1744\u001b[39m     \u001b[38;5;28;43mself\u001b[39;49m\u001b[43m.\u001b[49m\u001b[43mload_lang\u001b[49m\u001b[43m(\u001b[49m\u001b[43mlang\u001b[49m\u001b[43m)\u001b[49m\n",
      "\u001b[36mFile \u001b[39m\u001b[32m~/Desktop/LLM/RAFT/.venv/lib/python3.12/site-packages/nltk/tokenize/punkt.py:1749\u001b[39m, in \u001b[36mPunktTokenizer.load_lang\u001b[39m\u001b[34m(self, lang)\u001b[39m\n\u001b[32m   1746\u001b[39m \u001b[38;5;28;01mdef\u001b[39;00m\u001b[38;5;250m \u001b[39m\u001b[34mload_lang\u001b[39m(\u001b[38;5;28mself\u001b[39m, lang=\u001b[33m\"\u001b[39m\u001b[33menglish\u001b[39m\u001b[33m\"\u001b[39m):\n\u001b[32m   1747\u001b[39m     \u001b[38;5;28;01mfrom\u001b[39;00m\u001b[38;5;250m \u001b[39m\u001b[34;01mnltk\u001b[39;00m\u001b[34;01m.\u001b[39;00m\u001b[34;01mdata\u001b[39;00m\u001b[38;5;250m \u001b[39m\u001b[38;5;28;01mimport\u001b[39;00m find\n\u001b[32m-> \u001b[39m\u001b[32m1749\u001b[39m     lang_dir = \u001b[43mfind\u001b[49m\u001b[43m(\u001b[49m\u001b[33;43mf\u001b[39;49m\u001b[33;43m\"\u001b[39;49m\u001b[33;43mtokenizers/punkt_tab/\u001b[39;49m\u001b[38;5;132;43;01m{\u001b[39;49;00m\u001b[43mlang\u001b[49m\u001b[38;5;132;43;01m}\u001b[39;49;00m\u001b[33;43m/\u001b[39;49m\u001b[33;43m\"\u001b[39;49m\u001b[43m)\u001b[49m\n\u001b[32m   1750\u001b[39m     \u001b[38;5;28mself\u001b[39m._params = load_punkt_params(lang_dir)\n\u001b[32m   1751\u001b[39m     \u001b[38;5;28mself\u001b[39m._lang = lang\n",
      "\u001b[36mFile \u001b[39m\u001b[32m~/Desktop/LLM/RAFT/.venv/lib/python3.12/site-packages/nltk/data.py:579\u001b[39m, in \u001b[36mfind\u001b[39m\u001b[34m(resource_name, paths)\u001b[39m\n\u001b[32m    577\u001b[39m sep = \u001b[33m\"\u001b[39m\u001b[33m*\u001b[39m\u001b[33m\"\u001b[39m * \u001b[32m70\u001b[39m\n\u001b[32m    578\u001b[39m resource_not_found = \u001b[33mf\u001b[39m\u001b[33m\"\u001b[39m\u001b[38;5;130;01m\\n\u001b[39;00m\u001b[38;5;132;01m{\u001b[39;00msep\u001b[38;5;132;01m}\u001b[39;00m\u001b[38;5;130;01m\\n\u001b[39;00m\u001b[38;5;132;01m{\u001b[39;00mmsg\u001b[38;5;132;01m}\u001b[39;00m\u001b[38;5;130;01m\\n\u001b[39;00m\u001b[38;5;132;01m{\u001b[39;00msep\u001b[38;5;132;01m}\u001b[39;00m\u001b[38;5;130;01m\\n\u001b[39;00m\u001b[33m\"\u001b[39m\n\u001b[32m--> \u001b[39m\u001b[32m579\u001b[39m \u001b[38;5;28;01mraise\u001b[39;00m \u001b[38;5;167;01mLookupError\u001b[39;00m(resource_not_found)\n",
      "\u001b[31mLookupError\u001b[39m: \n**********************************************************************\n  Resource \u001b[93mpunkt_tab\u001b[0m not found.\n  Please use the NLTK Downloader to obtain the resource:\n\n  \u001b[31m>>> import nltk\n  >>> nltk.download('punkt_tab')\n  \u001b[0m\n  For more information see: https://www.nltk.org/data.html\n\n  Attempted to load \u001b[93mtokenizers/punkt_tab/english/\u001b[0m\n\n  Searched in:\n    - '/Users/nandhinirajasekaran/nltk_data'\n    - '/Users/nandhinirajasekaran/Desktop/LLM/RAFT/.venv/nltk_data'\n    - '/Users/nandhinirajasekaran/Desktop/LLM/RAFT/.venv/share/nltk_data'\n    - '/Users/nandhinirajasekaran/Desktop/LLM/RAFT/.venv/lib/nltk_data'\n    - '/usr/share/nltk_data'\n    - '/usr/local/share/nltk_data'\n    - '/usr/lib/nltk_data'\n    - '/usr/local/lib/nltk_data'\n**********************************************************************\n"
     ]
    }
   ],
   "source": [
    "import tiktoken\n",
    "import os\n",
    "import re\n",
    "import json\n",
    "import nltk\n",
    "import pdfplumber\n",
    "from dotenv import load_dotenv\n",
    "from sentence_transformers import SentenceTransformer\n",
    "from sklearn.metrics.pairwise import cosine_similarity\n",
    "from nltk.tokenize import sent_tokenize\n",
    "from langchain.document_loaders import PyPDFLoader\n",
    "from langchain_openai import ChatOpenAI\n",
    "from langchain_core.messages import HumanMessage\n",
    "from langchain_core.prompts import PromptTemplate\n",
    "\n",
    "qa_prompt = PromptTemplate(\n",
    "    input_variables=[\"chunk\", \"metadata\"],\n",
    "    template=\"\"\"\n",
    "    You are a JSON generator for question-answer pairs. Given the document chunk and metadata below, generate 2-3 QA pairs in valid JSON format. Output ONLY the JSON array.\n",
    "\n",
    "    Chunk: {chunk}\n",
    "    Metadata: {metadata}\n",
    "\n",
    "    Example output:\n",
    "    [{{\"question\": \"What is the drug reimbursement rate?\", \"answer\": \"60% reimbursement\"}},\n",
    "     {{\"question\": \"What is the annual maximum?\", \"answer\": \"$750\"}}]\n",
    "    \"\"\"\n",
    ")\n",
    "\n",
    "llm = ChatOpenAI(model_name=\"gpt-3.5-turbo\", temperature=0.5)\n",
    "\n",
    "def is_complex_chunk(text):\n",
    "    return bool(re.search(r'exclusion|limitation|condition', text, re.IGNORECASE))\n",
    "\n",
    "def generate_llm_qa(text, metadata):\n",
    "    try:\n",
    "        formatted_prompt = qa_prompt.format_prompt(\n",
    "            chunk=text[:1000],\n",
    "            metadata=json.dumps(metadata)\n",
    "        ).to_string()\n",
    "\n",
    "        response = llm([HumanMessage(content=formatted_prompt)]).content\n",
    "        print(\"\\n🧾 Raw LLM Output:\\n\", response)\n",
    "\n",
    "        try:\n",
    "            qa_list = json.loads(response)\n",
    "        except:\n",
    "            start, end = response.find(\"[\"), response.rfind(\"]\") + 1\n",
    "            qa_list = json.loads(response[start:end]) if start != -1 and end != -1 else []\n",
    "\n",
    "        valid_qas = []\n",
    "        for qa in qa_list:\n",
    "            if isinstance(qa, dict) and \"question\" in qa and \"answer\" in qa:\n",
    "                valid_qas.append(qa)\n",
    "            else:\n",
    "                print(\"⚠️ Skipping malformed QA:\", repr(qa))\n",
    "        return valid_qas\n",
    "    except Exception as e:\n",
    "        print(\"❌ LLM QA generation failed:\", e)\n",
    "        return []\n",
    "\n",
    "def generate_template_qa(text, metadata):\n",
    "    pattern = r'(\\w+)\\s+reimbursement|maximum of \\$([\\d,]+)'\n",
    "    matches = re.findall(pattern, text)\n",
    "    qa_pairs = []\n",
    "    for m in matches:\n",
    "        entity = m[0] or m[1]\n",
    "        question = f\"What is the {entity} reimbursement rate for the {metadata['plan_type']} plan?\"\n",
    "        qa_pairs.append({\"question\": question, \"answer\": text[:200]})\n",
    "    return qa_pairs\n",
    "\n",
    "\n",
    "def get_tokenizer(model=\"gpt-3.5-turbo\"):\n",
    "    return tiktoken.encoding_for_model(model)\n",
    "\n",
    "tokenizer = get_tokenizer()\n",
    "\n",
    "def context_window_chunk(text, max_tokens=500, overlap=100, model=\"gpt-3.5-turbo\"):\n",
    "    tokenizer = get_tokenizer(model)\n",
    "    tokens = tokenizer.encode(text)\n",
    "    chunks = []\n",
    "\n",
    "    start = 0\n",
    "    while start < len(tokens):\n",
    "        end = min(start + max_tokens, len(tokens))\n",
    "        chunk_tokens = tokens[start:end]\n",
    "        chunk_text = tokenizer.decode(chunk_tokens)\n",
    "        chunks.append(chunk_text.strip())\n",
    "        start += max_tokens - overlap\n",
    "\n",
    "    return chunks\n",
    "\n",
    "from langchain.document_loaders import PyPDFLoader\n",
    "\n",
    "loader = PyPDFLoader(\"datastore/phi-basic.pdf\")\n",
    "pages = loader.load()\n",
    "\n",
    "context_chunks = []\n",
    "for page in pages:\n",
    "    page_chunks = context_window_chunk(page.page_content, max_tokens=500, overlap=100)\n",
    "    context_chunks.extend(page_chunks)\n",
    "\n",
    "\n",
    "qa_dataset = []\n",
    "for chunk in context_chunks:\n",
    "    metadata = {\"source_file\": \"phi-basic.pdf\", \"plan_type\": \"basic\"}\n",
    "    qa_pairs = generate_llm_qa(chunk, metadata) if is_complex_chunk(chunk) else generate_template_qa(chunk, metadata)\n",
    "\n",
    "    for qa in qa_pairs:\n",
    "        if isinstance(qa, dict) and \"question\" in qa and \"answer\" in qa:\n",
    "            qa_dataset.append({\n",
    "                \"question\": qa[\"question\"],\n",
    "                \"answer\": qa[\"answer\"],\n",
    "                \"source_file\": \"phi-basic.pdf\",\n",
    "                \"plan_type\": \"basic\"\n",
    "            })\n"
   ]
  },
  {
   "cell_type": "code",
   "execution_count": 2,
   "id": "4fd5e961",
   "metadata": {},
   "outputs": [
    {
     "name": "stdout",
     "output_type": "stream",
     "text": [
      "✅ Saved 68 QA pairs using context-window aware chunking.\n"
     ]
    }
   ],
   "source": [
    "with open(\"raft_qa_dataset_context_chunking.json\", \"w\") as f:\n",
    "    json.dump(qa_dataset, f, indent=2)\n",
    "\n",
    "print(f\"✅ Saved {len(qa_dataset)} QA pairs using context-window aware chunking.\")\n"
   ]
  }
 ],
 "metadata": {
  "kernelspec": {
   "display_name": ".venv",
   "language": "python",
   "name": "python3"
  },
  "language_info": {
   "codemirror_mode": {
    "name": "ipython",
    "version": 3
   },
   "file_extension": ".py",
   "mimetype": "text/x-python",
   "name": "python",
   "nbconvert_exporter": "python",
   "pygments_lexer": "ipython3",
   "version": "3.12.7"
  }
 },
 "nbformat": 4,
 "nbformat_minor": 5
}
